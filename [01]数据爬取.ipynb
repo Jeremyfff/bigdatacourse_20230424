{
 "cells": [
  {
   "cell_type": "markdown",
   "source": [
    "# [01]数据获取"
   ],
   "metadata": {
    "collapsed": false,
    "pycharm": {
     "name": "#%% md\n"
    }
   }
  },
  {
   "cell_type": "markdown",
   "source": [
    "## 数据获取方式1 使用API获取数据"
   ],
   "metadata": {
    "collapsed": false,
    "pycharm": {
     "name": "#%% md\n"
    }
   }
  },
  {
   "cell_type": "code",
   "execution_count": null,
   "outputs": [],
   "source": [
    "!pip install tqdm requests pandas matplotlib"
   ],
   "metadata": {
    "collapsed": false,
    "pycharm": {
     "name": "#%%\n",
     "is_executing": true
    }
   }
  },
  {
   "cell_type": "code",
   "execution_count": 5,
   "outputs": [],
   "source": [
    "from tqdm import tqdm\n",
    "import requests\n",
    "import time\n",
    "import json"
   ],
   "metadata": {
    "collapsed": false,
    "pycharm": {
     "name": "#%%\n"
    }
   }
  },
  {
   "cell_type": "code",
   "execution_count": 9,
   "outputs": [],
   "source": [
    "# API的使用需要申请key\n",
    "# 高德地图 web api key\n",
    "KEYS =  [\"a6d4b3ebaa846c610fad61ec36ffceba\",\n",
    "         \"cca3eba09d3e327449c45cf531e08e7a\",\n",
    "         \"89f0d1fc8a975311789cb1833afcbb9d\",\n",
    "         \"4555f64b2a07e70c17bc756580018e41\",\n",
    "         \"c5d350447d0802b34760e7ba2ea7c1be\",\n",
    "         \"75acd1144e83563fe7442004c46b771c\",\n",
    "         \"0a6c8cc540730b11874e21f866f696f6\",\n",
    "         \"031ac4c04e5da84ec8791bcf1960a58c\",\n",
    "         \"6a7bdadebdc8eb9dc27d120013390a28\",\n",
    "         \"4c0e67a5c3cdbc2950c07fec58f4126c\"]"
   ],
   "metadata": {
    "collapsed": false,
    "pycharm": {
     "name": "#%%\n"
    }
   }
  },
  {
   "cell_type": "code",
   "execution_count": 15,
   "outputs": [],
   "source": [
    "# 预先定义的header\n",
    "HEADERS= {\n",
    "    'User-Agent': 'Mozilla/5.0 (Windows NT 10.0; WOW64) AppleWebKit/537.36 (KHTML, like Gecko) ''Chrome/51.0.2704.63 Safari/537.36'}"
   ],
   "metadata": {
    "collapsed": false,
    "pycharm": {
     "name": "#%%\n"
    }
   }
  },
  {
   "cell_type": "code",
   "execution_count": 16,
   "outputs": [],
   "source": [
    "\n",
    "def request_from(url, retry_count:int = 5, timeout = 30) -> str:\n",
    "    \"\"\"\n",
    "    使用Get方法向网页请求信息\n",
    "    :param url: 请求的网页\n",
    "    :param retry_count: 重试次数\n",
    "    :param timeout: 超时时间\n",
    "    :return: 网页的response，失败返回“”\n",
    "    \"\"\"\n",
    "    while retry_count:\n",
    "        response = requests.get(url, headers=HEADERS, timeout=timeout)\n",
    "        if response.status_code == 200:\n",
    "            # 200表示成功\n",
    "            return response.text\n",
    "        else:\n",
    "            retry_count -= 1\n",
    "            print(f\"[Warning] 访问 {url} 失败， 剩余次数{retry_count}\")\n",
    "        print(f'[Error] 访问{url}失败')\n",
    "        return \"\"\n"
   ],
   "metadata": {
    "collapsed": false,
    "pycharm": {
     "name": "#%%\n"
    }
   }
  },
  {
   "cell_type": "code",
   "execution_count": 17,
   "outputs": [],
   "source": [
    "def validate_keys(keys:list) -> list:\n",
    "    \"\"\"\n",
    "    校验提供的key是否有效\n",
    "    :param keys: 要校验的key\n",
    "    :return: 返回有效的key\n",
    "    \"\"\"\n",
    "    key_list = []\n",
    "    for i in tqdm(range(len(keys)),ncols=80, desc=\"validating keys\"):\n",
    "        key = KEYS[i]\n",
    "        url = f\"https://restapi.amap.com/v3/place/around?key={key}&location=118,31&types=010000\"\n",
    "        res = request_from(url)\n",
    "        if res == \"\":\n",
    "            continue\n",
    "        json_data = json.loads(res)\n",
    "        infocode = json_data['infocode']\n",
    "        if infocode == \"10000\":\n",
    "            key_list.append(key)\n",
    "    return key_list"
   ],
   "metadata": {
    "collapsed": false,
    "pycharm": {
     "name": "#%%\n"
    }
   }
  },
  {
   "cell_type": "code",
   "execution_count": 24,
   "outputs": [],
   "source": [
    "import random\n",
    "def get_key(keys):\n",
    "    key_num = random.randint(0,len(keys)-1)\n",
    "    return keys[key_num]"
   ],
   "metadata": {
    "collapsed": false,
    "pycharm": {
     "name": "#%%\n"
    }
   }
  },
  {
   "cell_type": "code",
   "execution_count": 25,
   "outputs": [
    {
     "name": "stderr",
     "output_type": "stream",
     "text": [
      "validating keys: 100%|██████████████████████████| 10/10 [00:01<00:00,  7.20it/s]"
     ]
    },
    {
     "name": "stdout",
     "output_type": "stream",
     "text": [
      "['a6d4b3ebaa846c610fad61ec36ffceba', 'cca3eba09d3e327449c45cf531e08e7a', '89f0d1fc8a975311789cb1833afcbb9d', '4555f64b2a07e70c17bc756580018e41', '75acd1144e83563fe7442004c46b771c', '6a7bdadebdc8eb9dc27d120013390a28']\n"
     ]
    },
    {
     "name": "stderr",
     "output_type": "stream",
     "text": [
      "\n"
     ]
    }
   ],
   "source": [
    "valid_keys = validate_keys(KEYS)\n",
    "print(valid_keys) # 尚且有效的key"
   ],
   "metadata": {
    "collapsed": false,
    "pycharm": {
     "name": "#%%\n"
    }
   }
  },
  {
   "cell_type": "code",
   "execution_count": 46,
   "outputs": [],
   "source": [
    "import math\n",
    "def get_poi(city, radius, types, locations, extensions=\"base\"):\n",
    "\n",
    "\n",
    "    result = []\n",
    "    progress = 0\n",
    "    for i in range(len(locations)):\n",
    "        location = str(locations[i])[1:-1].replace(\" \",\"\")\n",
    "        for j in range(len(types)):\n",
    "            key = get_key(valid_keys)  # 随机取一个key\n",
    "            type = types[j]\n",
    "            url = f\"https://restapi.amap.com/v3/place/around?key={key}&location={location}&types={type}&city={city}&radius={radius}&extentions={extensions}\"\n",
    "            # 获得信息\n",
    "            res = request_from(url)\n",
    "            assert res != \"\"\n",
    "            json_data = json.loads(res)\n",
    "            count = int(json_data['count'])\n",
    "            num_page = math.ceil(count / 20)\n",
    "\n",
    "            print(f\"\\n正在获取第{i+1}个点的POI({type}), 共找到{count}个POI， 共{num_page}页\")\n",
    "            step = 100/len(locations)/len(types)/num_page\n",
    "\n",
    "            # 分页爬取\n",
    "            for page in range(num_page):\n",
    "                progress += step\n",
    "                print(\"\\r 总进度：\"+str(int(progress))+\"%\",end=\"\")\n",
    "\n",
    "                url2 = f\"{url}&page={page+1}\"\n",
    "                res = request_from(url2)\n",
    "                if res == \"\":\n",
    "                    print(f\"[Error] page:{page} url: {url2}\")\n",
    "                    continue\n",
    "                json_data = json.loads(res)\n",
    "                num_poi = len(json_data['pois'])\n",
    "\n",
    "                if num_poi <= 0:\n",
    "                    continue\n",
    "                for k in range(num_poi):\n",
    "                    poi_name = str(json_data['pois'][k]['name']).replace(\",\", \" \")\n",
    "                    poi_loc = json_data['pois'][k]['location']\n",
    "                    poi_id = json_data['pois'][k]['id']\n",
    "                    poi_address = str(json_data['pois'][k]['address']).replace(\",\", \" \")\n",
    "                    poi_dist = json_data['pois'][k]['distance']\n",
    "                    poi_code = json_data['pois'][k]['typecode']\n",
    "                    rating = json_data['pois'][k]['biz_ext']['rating']\n",
    "                    poi_rating = \"\" if rating == [] else str(rating)\n",
    "\n",
    "                    result.append(f\"{i+1}, {location}, {j+1}, {type}, {poi_code}, {poi_id}, {poi_name}, {poi_loc}, {poi_address}, {poi_dist}, {poi_rating}\")\n",
    "\n",
    "    return result\n"
   ],
   "metadata": {
    "collapsed": false,
    "pycharm": {
     "name": "#%%\n"
    }
   }
  },
  {
   "cell_type": "code",
   "execution_count": 45,
   "outputs": [
    {
     "name": "stdout",
     "output_type": "stream",
     "text": [
      "\n",
      "正在获取第1个点的POI(010000), 共找到13个POI， 共1页\n",
      " 总进度：25%\n",
      "正在获取第1个点的POI(050000), 共找到621个POI， 共32页\n",
      " 总进度：32%pass\n",
      " 总进度：33%pass\n",
      " 总进度：34%pass\n",
      " 总进度：35%pass\n",
      " 总进度：35%pass\n",
      " 总进度：36%pass\n",
      " 总进度：37%pass\n",
      " 总进度：38%pass\n",
      " 总进度：39%pass\n",
      " 总进度：39%pass\n",
      " 总进度：40%pass\n",
      " 总进度：41%pass\n",
      " 总进度：42%pass\n",
      " 总进度：42%pass\n",
      " 总进度：43%pass\n",
      " 总进度：44%pass\n",
      " 总进度：45%pass\n",
      " 总进度：46%pass\n",
      " 总进度：46%pass\n",
      " 总进度：47%pass\n",
      " 总进度：48%pass\n",
      " 总进度：49%pass\n",
      " 总进度：50%pass\n",
      "\n",
      "正在获取第2个点的POI(010000), 共找到26个POI， 共2页\n",
      " 总进度：75%\n",
      "正在获取第2个点的POI(050000), 共找到879个POI， 共44页\n",
      " 总进度：80%pass\n",
      " 总进度：81%pass\n",
      " 总进度：81%pass\n",
      " 总进度：82%pass\n",
      " 总进度：82%pass\n",
      " 总进度：83%pass\n",
      " 总进度：84%pass\n",
      " 总进度：84%pass\n",
      " 总进度：85%pass\n",
      " 总进度：85%pass\n",
      " 总进度：86%pass\n",
      " 总进度：86%pass\n",
      " 总进度：87%pass\n",
      " 总进度：88%pass\n",
      " 总进度：88%pass\n",
      " 总进度：89%pass\n",
      " 总进度：89%pass\n",
      " 总进度：90%pass\n",
      " 总进度：90%pass\n",
      " 总进度：91%pass\n",
      " 总进度：92%pass\n",
      " 总进度：92%pass\n",
      " 总进度：93%pass\n",
      " 总进度：93%pass\n",
      " 总进度：94%pass\n",
      " 总进度：94%pass\n",
      " 总进度：95%pass\n",
      " 总进度：96%pass\n",
      " 总进度：96%pass\n",
      " 总进度：97%pass\n",
      " 总进度：97%pass\n",
      " 总进度：98%pass\n",
      " 总进度：98%pass\n",
      " 总进度：99%pass\n",
      " 总进度：99%pass\n"
     ]
    }
   ],
   "source": [
    "city = \"南京\"\n",
    "lon_list = [118.794748, 118.784136]\n",
    "lat_list = [32.041717, 32.041806]\n",
    "locations = list(zip(lon_list, lat_list))\n",
    "search_radius = 500  # 一般不宜大于5000m\n",
    "# POI类型列表\n",
    "# types = [\"010000\", \"050000\", \"060000\", \"070000\", \"080000\", \"090000\", \"100000\", \"110000\", \"120000\", \"130000\",\n",
    "#         \"140000\",\"150000\", \"160000\", \"170000\"]\n",
    "types = [\"010000\", \"050000\"]\n",
    "\n",
    "result = get_poi(city=city,radius=search_radius, types=types, locations=locations)"
   ],
   "metadata": {
    "collapsed": false,
    "pycharm": {
     "name": "#%%\n"
    }
   }
  },
  {
   "cell_type": "code",
   "execution_count": 53,
   "outputs": [
    {
     "name": "stdout",
     "output_type": "stream",
     "text": [
      "1, 118.794748,32.041717, 1, 010000, 010900, B0G0254XZ2, 大方租车(大行宫), 118.794093,32.040781, 中山东路219号, 121, 3.5\n",
      "1, 118.794748,32.041717, 1, 010000, 010000, B0IDZC7CG3, 炜程汽车维修保养服务(贴膜), 118.795148,32.039883, 新世纪广场地下停车场负一楼, 207, 4.1\n",
      "1, 118.794748,32.041717, 1, 010000, 010900, B0FFF4QHU6, 佳偶婚车, 118.795099,32.039863, 中山东路科巷1号大行宫新世纪广场B座1610室, 209, 3.8\n",
      "1, 118.794748,32.041717, 1, 010000, 011100, B0HKFOYXCL, 依威能源汽车充电站(龙台国际大厦停车场), 118.793036,32.040258, 中山东路198号龙台国际大厦龙台国际大厦停车场, 229, 1.2\n",
      "1, 118.794748,32.041717, 1, 010000, 010000, B0I1GMU6PS, 酷车族汽车服务连锁新世纪广场店, 118.795256,32.039695, 新世纪广场地下停车场负一楼, 230, 4.1\n",
      "1, 118.794748,32.041717, 1, 010000, 010400, B0FFLH21EV, 潮玩车酷汽车美容工作室, 118.797313,32.040030, 中山东路300号长发中心负三, 306, 3.8\n",
      "1, 118.794748,32.041717, 1, 010000, 010000, B0I6T5PIYG, 穗通客车, 118.797994,32.040995, 中山东路与利济巷交叉口西北40米, 316, 3.2\n",
      "1, 118.794748,32.041717, 1, 010000, 010400, B0HB7R1MRY, 轩轼贴膜工作室, 118.797544,32.040085, 中山东路300号负3层, 320, 4.4\n",
      "1, 118.794748,32.041717, 1, 010000, 011100, B0FFHVWKMU, 南京易充充电站(长江路汉府饭店), 118.792354,32.044032, 长江路264号停车场入口及地下停车场, 342, 0.2\n",
      "1, 118.794748,32.041717, 1, 010000, 011100, B0FFLOREAQ, 万马爱充汽车充电站(万马爱充圣和府邸酒店站), 118.798836,32.043281, 长江路300号圣和府邸酒店地下停车场B3层, 423, 4.4\n"
     ]
    }
   ],
   "source": [
    "#查看前10个结果\n",
    "for line in result[0:10]:\n",
    "    print(line)"
   ],
   "metadata": {
    "collapsed": false,
    "pycharm": {
     "name": "#%%\n"
    }
   }
  },
  {
   "cell_type": "code",
   "execution_count": 54,
   "outputs": [],
   "source": [
    "# 保存文件\n",
    "title = \"index,lon,lat,poi_index,poi_code1,poi_code2,item_id,item_name,item_lon,item_lat,item_address,item_distance,item_rate\"\n",
    "file_path = f\"{city}_poi_test.csv\"\n",
    "with open(file_path,'w',encoding='utf-8') as f:\n",
    "    f.write(title + \"\\n\")\n",
    "    for line in result:\n",
    "        f.write(line + \"\\n\")\n",
    "    f.close()\n"
   ],
   "metadata": {
    "collapsed": false,
    "pycharm": {
     "name": "#%%\n"
    }
   }
  },
  {
   "cell_type": "code",
   "execution_count": null,
   "outputs": [],
   "source": [
    "!pip install numpy pandas"
   ],
   "metadata": {
    "collapsed": false,
    "pycharm": {
     "name": "#%%\n"
    }
   }
  },
  {
   "cell_type": "code",
   "execution_count": 50,
   "outputs": [
    {
     "data": {
      "text/plain": "     Unnamed: 0  route_index route_name    name   stop_id stop_poi_id   \n0             0            0  S1号线(机场线)  空港新城江宁  970 1565  BV10946753  \\\n1             1            0  S1号线(机场线)    禄口机场  895 1565  BV10420611   \n2             2            0  S1号线(机场线)    翔宇路南  801 1510  BV10054284   \n3             3            0  S1号线(机场线)    翔宇路北  801 1435  BV10053120   \n4             4            0  S1号线(机场线)    正方中路  801 1361  BV10057781   \n..          ...          ...        ...     ...       ...         ...   \n154         169            9       10号线   浦口万汇城   276 592  BV10057778   \n155         170            9       10号线  南京工业大学   247 561  BV10057779   \n156         171            9       10号线     龙华路   215 527  BV10055913   \n157         172            9       10号线     文德路   186 494  BV10057780   \n158         173            9       10号线     雨山路   159 465  BV10057606   \n\n            lon        lat                      route  trans  su  \n0    118.887659  31.737687  320100022467|900000075073      1   1  \n1    118.873640  31.730279               320100022467      0   1  \n2    118.829201  31.754866  320100022467|900000075091      1   1  \n3    118.821542  31.791284               320100022467      0   1  \n4    118.805809  31.845115               320100022467      0   1  \n..          ...        ...                        ...    ...  ..  \n154  118.657082  32.061689               320100022437      0   1  \n155  118.648245  32.066794               320100022437      0   1  \n156  118.635204  32.064712               320100022437      0   1  \n157  118.626645  32.057396               320100022437      0   1  \n158  118.615125  32.044496               320100022437      0   1  \n\n[159 rows x 11 columns]",
      "text/html": "<div>\n<style scoped>\n    .dataframe tbody tr th:only-of-type {\n        vertical-align: middle;\n    }\n\n    .dataframe tbody tr th {\n        vertical-align: top;\n    }\n\n    .dataframe thead th {\n        text-align: right;\n    }\n</style>\n<table border=\"1\" class=\"dataframe\">\n  <thead>\n    <tr style=\"text-align: right;\">\n      <th></th>\n      <th>Unnamed: 0</th>\n      <th>route_index</th>\n      <th>route_name</th>\n      <th>name</th>\n      <th>stop_id</th>\n      <th>stop_poi_id</th>\n      <th>lon</th>\n      <th>lat</th>\n      <th>route</th>\n      <th>trans</th>\n      <th>su</th>\n    </tr>\n  </thead>\n  <tbody>\n    <tr>\n      <th>0</th>\n      <td>0</td>\n      <td>0</td>\n      <td>S1号线(机场线)</td>\n      <td>空港新城江宁</td>\n      <td>970 1565</td>\n      <td>BV10946753</td>\n      <td>118.887659</td>\n      <td>31.737687</td>\n      <td>320100022467|900000075073</td>\n      <td>1</td>\n      <td>1</td>\n    </tr>\n    <tr>\n      <th>1</th>\n      <td>1</td>\n      <td>0</td>\n      <td>S1号线(机场线)</td>\n      <td>禄口机场</td>\n      <td>895 1565</td>\n      <td>BV10420611</td>\n      <td>118.873640</td>\n      <td>31.730279</td>\n      <td>320100022467</td>\n      <td>0</td>\n      <td>1</td>\n    </tr>\n    <tr>\n      <th>2</th>\n      <td>2</td>\n      <td>0</td>\n      <td>S1号线(机场线)</td>\n      <td>翔宇路南</td>\n      <td>801 1510</td>\n      <td>BV10054284</td>\n      <td>118.829201</td>\n      <td>31.754866</td>\n      <td>320100022467|900000075091</td>\n      <td>1</td>\n      <td>1</td>\n    </tr>\n    <tr>\n      <th>3</th>\n      <td>3</td>\n      <td>0</td>\n      <td>S1号线(机场线)</td>\n      <td>翔宇路北</td>\n      <td>801 1435</td>\n      <td>BV10053120</td>\n      <td>118.821542</td>\n      <td>31.791284</td>\n      <td>320100022467</td>\n      <td>0</td>\n      <td>1</td>\n    </tr>\n    <tr>\n      <th>4</th>\n      <td>4</td>\n      <td>0</td>\n      <td>S1号线(机场线)</td>\n      <td>正方中路</td>\n      <td>801 1361</td>\n      <td>BV10057781</td>\n      <td>118.805809</td>\n      <td>31.845115</td>\n      <td>320100022467</td>\n      <td>0</td>\n      <td>1</td>\n    </tr>\n    <tr>\n      <th>...</th>\n      <td>...</td>\n      <td>...</td>\n      <td>...</td>\n      <td>...</td>\n      <td>...</td>\n      <td>...</td>\n      <td>...</td>\n      <td>...</td>\n      <td>...</td>\n      <td>...</td>\n      <td>...</td>\n    </tr>\n    <tr>\n      <th>154</th>\n      <td>169</td>\n      <td>9</td>\n      <td>10号线</td>\n      <td>浦口万汇城</td>\n      <td>276 592</td>\n      <td>BV10057778</td>\n      <td>118.657082</td>\n      <td>32.061689</td>\n      <td>320100022437</td>\n      <td>0</td>\n      <td>1</td>\n    </tr>\n    <tr>\n      <th>155</th>\n      <td>170</td>\n      <td>9</td>\n      <td>10号线</td>\n      <td>南京工业大学</td>\n      <td>247 561</td>\n      <td>BV10057779</td>\n      <td>118.648245</td>\n      <td>32.066794</td>\n      <td>320100022437</td>\n      <td>0</td>\n      <td>1</td>\n    </tr>\n    <tr>\n      <th>156</th>\n      <td>171</td>\n      <td>9</td>\n      <td>10号线</td>\n      <td>龙华路</td>\n      <td>215 527</td>\n      <td>BV10055913</td>\n      <td>118.635204</td>\n      <td>32.064712</td>\n      <td>320100022437</td>\n      <td>0</td>\n      <td>1</td>\n    </tr>\n    <tr>\n      <th>157</th>\n      <td>172</td>\n      <td>9</td>\n      <td>10号线</td>\n      <td>文德路</td>\n      <td>186 494</td>\n      <td>BV10057780</td>\n      <td>118.626645</td>\n      <td>32.057396</td>\n      <td>320100022437</td>\n      <td>0</td>\n      <td>1</td>\n    </tr>\n    <tr>\n      <th>158</th>\n      <td>173</td>\n      <td>9</td>\n      <td>10号线</td>\n      <td>雨山路</td>\n      <td>159 465</td>\n      <td>BV10057606</td>\n      <td>118.615125</td>\n      <td>32.044496</td>\n      <td>320100022437</td>\n      <td>0</td>\n      <td>1</td>\n    </tr>\n  </tbody>\n</table>\n<p>159 rows × 11 columns</p>\n</div>"
     },
     "execution_count": 50,
     "metadata": {},
     "output_type": "execute_result"
    }
   ],
   "source": [
    "import pandas as pd\n",
    "\n",
    "city = \"南京\"\n",
    "df = pd.read_csv(fr\"data/metro/{city}/data_{city}地铁.csv\")\n",
    "df"
   ],
   "metadata": {
    "collapsed": false,
    "pycharm": {
     "name": "#%%\n"
    }
   }
  },
  {
   "cell_type": "code",
   "execution_count": 54,
   "outputs": [],
   "source": [],
   "metadata": {
    "collapsed": false,
    "pycharm": {
     "name": "#%%\n"
    }
   }
  },
  {
   "cell_type": "markdown",
   "source": [
    "## 数据获取方式2"
   ],
   "metadata": {
    "collapsed": false,
    "pycharm": {
     "name": "#%% md\n"
    }
   }
  },
  {
   "cell_type": "markdown",
   "source": [
    "使用现有工具\n",
    "例如：\n",
    "后裔采集器 <https://www.houyicaiji.com/>\n",
    "水经注<http://www.rivermap.cn/>"
   ],
   "metadata": {
    "collapsed": false,
    "pycharm": {
     "name": "#%% md\n"
    }
   }
  },
  {
   "cell_type": "markdown",
   "source": [
    "## 数据获取方式3"
   ],
   "metadata": {
    "collapsed": false,
    "pycharm": {
     "name": "#%% md\n"
    }
   }
  },
  {
   "cell_type": "markdown",
   "source": [
    "selenium\n",
    "\n",
    "浏览器输入 chrome://settings/help 查看版本\n",
    "chrome driver下载地址 <https://registry.npmmirror.com/binary.html?path=chromedriver/>"
   ],
   "metadata": {
    "collapsed": false,
    "pycharm": {
     "name": "#%% md\n"
    }
   }
  },
  {
   "cell_type": "code",
   "execution_count": 57,
   "outputs": [
    {
     "name": "stdout",
     "output_type": "stream",
     "text": [
      "Requirement already satisfied: pillow in c:\\users\\administrator\\appdata\\local\\programs\\python\\python311\\lib\\site-packages (9.4.0)\n",
      "Requirement already satisfied: opencv-python in c:\\users\\administrator\\appdata\\local\\programs\\python\\python311\\lib\\site-packages (4.7.0.68)\n",
      "Requirement already satisfied: numpy>=1.21.2 in c:\\users\\administrator\\appdata\\local\\programs\\python\\python311\\lib\\site-packages (from opencv-python) (1.24.1)\n"
     ]
    },
    {
     "name": "stderr",
     "output_type": "stream",
     "text": [
      "\n",
      "[notice] A new release of pip is available: 23.0.1 -> 23.1.1\n",
      "[notice] To update, run: python.exe -m pip install --upgrade pip\n"
     ]
    }
   ],
   "source": [
    "!pip install selenium pillow opencv-python"
   ],
   "metadata": {
    "collapsed": false,
    "pycharm": {
     "name": "#%%\n"
    }
   }
  },
  {
   "cell_type": "code",
   "execution_count": 58,
   "outputs": [
    {
     "name": "stdout",
     "output_type": "stream",
     "text": [
      "Requirement already satisfied: opencv-python in c:\\users\\administrator\\appdata\\local\\programs\\python\\python311\\lib\\site-packages (4.7.0.68)\n",
      "Requirement already satisfied: numpy>=1.21.2 in c:\\users\\administrator\\appdata\\local\\programs\\python\\python311\\lib\\site-packages (from opencv-python) (1.24.1)\n"
     ]
    },
    {
     "name": "stderr",
     "output_type": "stream",
     "text": [
      "\n",
      "[notice] A new release of pip is available: 23.0.1 -> 23.1.1\n",
      "[notice] To update, run: python.exe -m pip install --upgrade pip\n"
     ]
    }
   ],
   "source": [
    "!pip install opencv-python"
   ],
   "metadata": {
    "collapsed": false,
    "pycharm": {
     "name": "#%%\n"
    }
   }
  },
  {
   "cell_type": "code",
   "execution_count": null,
   "outputs": [
    {
     "name": "stdout",
     "output_type": "stream",
     "text": [
      "正在加载网页...\n"
     ]
    }
   ],
   "source": [],
   "metadata": {
    "collapsed": false,
    "pycharm": {
     "name": "#%%\n"
    }
   }
  },
  {
   "cell_type": "code",
   "execution_count": null,
   "outputs": [],
   "source": [],
   "metadata": {
    "collapsed": false,
    "pycharm": {
     "name": "#%%\n"
    }
   }
  }
 ],
 "metadata": {
  "kernelspec": {
   "display_name": "Python 3",
   "language": "python",
   "name": "python3"
  },
  "language_info": {
   "codemirror_mode": {
    "name": "ipython",
    "version": 2
   },
   "file_extension": ".py",
   "mimetype": "text/x-python",
   "name": "python",
   "nbconvert_exporter": "python",
   "pygments_lexer": "ipython2",
   "version": "2.7.6"
  }
 },
 "nbformat": 4,
 "nbformat_minor": 0
}